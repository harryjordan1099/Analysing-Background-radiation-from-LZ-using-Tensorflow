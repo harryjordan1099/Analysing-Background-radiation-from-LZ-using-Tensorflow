{
 "cells": [
  {
   "cell_type": "code",
   "execution_count": 10,
   "id": "3a5e9bbf-d941-4ee8-a53b-f76b05fdbe71",
   "metadata": {},
   "outputs": [],
   "source": [
    "import glob\n",
    "import scipy\n",
    "import uproot as up\n",
    "import matplotlib.pyplot as plt\n",
    "import awkward as ak\n",
    "import numpy as np\n",
    "import time\n",
    "import pandas as pd\n",
    "#import Pool\n",
    "from multiprocessing import Pool\n",
    "from scipy import stats\n",
    "from scipy.stats import gaussian_kde"
   ]
  },
  {
   "cell_type": "code",
   "execution_count": 11,
   "id": "203a2c55-de73-428b-9bfa-758e78768a56",
   "metadata": {},
   "outputs": [
    {
     "data": {
      "text/plain": [
       "['/hdfs/user/ak18773/od_simulations/BACCARAT_6.2.11_DER_9.1.0_LZAP_5.2.8/bi212',\n",
       " '/hdfs/user/ak18773/od_simulations/BACCARAT_6.2.11_DER_9.1.0_LZAP_5.2.8/cf252',\n",
       " '/hdfs/user/ak18773/od_simulations/BACCARAT_6.2.11_DER_9.1.0_LZAP_5.2.8/gdls_neutrons',\n",
       " '/hdfs/user/ak18773/od_simulations/BACCARAT_6.2.11_DER_9.1.0_LZAP_5.2.8/na22_z700',\n",
       " '/hdfs/user/ak18773/od_simulations/BACCARAT_6.2.11_DER_9.1.0_LZAP_5.2.8/po212',\n",
       " '/hdfs/user/ak18773/od_simulations/BACCARAT_6.2.11_DER_9.1.0_LZAP_5.2.8/rockgamma_scint_tanks']"
      ]
     },
     "execution_count": 11,
     "metadata": {},
     "output_type": "execute_result"
    }
   ],
   "source": [
    "files = glob.glob('/hdfs/user/ak18773/od_simulations/BACCARAT_6.2.11_DER_9.1.0_LZAP_5.2.8/*')\n",
    "files\n"
   ]
  },
  {
   "cell_type": "code",
   "execution_count": 12,
   "id": "2a8b025e-de54-400d-952b-0854e17eea76",
   "metadata": {},
   "outputs": [],
   "source": [
    "#Creates \n",
    "decay_types = ['bi212','po212','gdls_neutrons','na22_z700']\n",
    "data_types = ['pulseArea_phd', 'coincidence','areaFractionTime50_ns', \n",
    "              'areaFractionTime75_ns','areaFractionTime90_ns' ,'pulseStartTime_ns', \n",
    "              'pulseEndTime_ns', 'peakAmp', 'peakTime_ns']\n",
    "\n",
    "file_list = []\n",
    "\n",
    "for i in decay_types:\n",
    "    for n in data_types:\n",
    "        file_list.extend([(i,n)])\n",
    "        \n",
    "\n",
    "\n"
   ]
  },
  {
   "cell_type": "code",
   "execution_count": 13,
   "id": "7777a5d2-07fe-4757-9238-55b34f896daa",
   "metadata": {},
   "outputs": [],
   "source": [
    "def data_collector(decay_type, data_type):\n",
    "    #List of files to be collected\n",
    "    filenumber = range(100, 301 )\n",
    "    totaldata = []\n",
    "    #Main loop, formats the inputs to the uproot statement and appends them the total data array\n",
    "    for i in filenumber:\n",
    "        try:\n",
    "            tfile = up.open('/hdfs/user/ak18773/od_simulations/BACCARAT_6.2.11_DER_9.1.0_LZAP_5.2.8/{0}/lzap_output//LZAP_SEED{1}.root' .format(decay_type,i))\n",
    "            events = tfile['Events']\n",
    "            tempdata = (events['pulsesODHG.{}' .format(data_type)]).array()\n",
    "            totaldata.extend(tempdata)\n",
    "        except FileNotFoundError:\n",
    "            pass\n",
    "\n",
    "    finaldata = ak.flatten(totaldata)\n",
    "    try:\n",
    "        finaldata = ak.flatten(finaldata)\n",
    "        \n",
    "    except ValueError:\n",
    "        pass\n",
    "    return finaldata\n",
    "\n",
    "def data_collector_mean(decay_type, data_type):\n",
    "    #List of files to be collected\n",
    "    filenumber = range(100, 301)\n",
    "    totaldata = []\n",
    "    #Main loop, formats the inputs to the uproot statement and appends them the total data array\n",
    "    for i in filenumber:\n",
    "        try:\n",
    "            tfile = up.open('/hdfs/user/ak18773/od_simulations/BACCARAT_6.2.11_DER_9.1.0_LZAP_5.2.8/{0}/lzap_output//LZAP_SEED{1}.root' .format(decay_type,i))\n",
    "            events = tfile['Events']\n",
    "            tempdata = (events['pulsesODHG.{}' .format(data_type)]).array()#\n",
    "            tempdata = np.mean(tempdata)\n",
    "            totaldata.append(tempdata)\n",
    "        except FileNotFoundError:\n",
    "            pass\n",
    "                     \n",
    "    return totaldata\n",
    "\n",
    "def remove_outliers(df):\n",
    "    z_scores = stats.zscore(df)\n",
    "\n",
    "    abs_z_scores = np.abs(z_scores)\n",
    "    filtered_entries = (abs_z_scores < 3).all(axis=1)\n",
    "    new_df = df[filtered_entries]\n",
    "\n",
    "    return new_df\n",
    "        \n",
    "\n",
    "\n",
    "\n"
   ]
  },
  {
   "cell_type": "code",
   "execution_count": 14,
   "id": "3aad71e2-ed18-44c5-9f21-bd52099a3f06",
   "metadata": {},
   "outputs": [
    {
     "name": "stdout",
     "output_type": "stream",
     "text": [
      "309.3255774520221\n"
     ]
    }
   ],
   "source": [
    "t0 = time.clock_gettime(time.CLOCK_MONOTONIC_RAW)\n",
    "\n",
    "\n",
    "\n",
    "num_processors = 30\n",
    "p=Pool(processes = num_processors)\n",
    "decaydata = p.starmap(data_collector, [i for i in file_list])\n",
    "\n",
    "\n",
    "t1 = time.clock_gettime(time.CLOCK_MONOTONIC_RAW) - t0\n",
    "print(t1)\n",
    "\n"
   ]
  },
  {
   "cell_type": "code",
   "execution_count": 15,
   "id": "828c23af-f823-44e1-8d98-fb7fc0ba7c80",
   "metadata": {},
   "outputs": [
    {
     "data": {
      "text/plain": [
       "[<Array [351, 314, 231, 354, ... 278, 302, 212] type='19889 * float64'>,\n",
       " <Array [107, 108, 101, 109, ... 100, 110, 94] type='19889 * int64'>,\n",
       " <Array [100, 100, 100, 100, ... 100, 100, 100] type='19889 * int64'>,\n",
       " <Array [140, 140, 140, 140, ... 150, 140, 140] type='19889 * int64'>,\n",
       " <Array [180, 180, 200, 190, ... 190, 190, 200] type='19889 * int64'>,\n",
       " <Array [1020, 1020, 1020, ... 1020, 1020, 1020] type='19889 * int64'>,\n",
       " <Array [1490, 1480, 1440, ... 1420, 1460, 1430] type='19889 * int64'>,\n",
       " <Array [3.14, 2.84, 1.78, ... 2.4, 2.78, 1.76] type='19889 * float64'>,\n",
       " <Array [60, 60, 60, 60, 60, ... 70, 70, 70, 60] type='19889 * int64'>,\n",
       " <Array [103, 74.4, 76.2, ... 93.4, 86.6, 77] type='19963 * float64'>,\n",
       " <Array [72, 57, 58, 57, 78, ... 44, 65, 60, 60] type='19963 * int64'>,\n",
       " <Array [100, 110, 100, 110, ... 100, 100, 100] type='19963 * int64'>,\n",
       " <Array [150, 160, 150, 160, ... 140, 140, 140] type='19963 * int64'>,\n",
       " <Array [200, 220, 190, 200, ... 190, 180, 180] type='19963 * int64'>,\n",
       " <Array [1020, 1020, 1020, ... 1020, 1020, 1020] type='19963 * int64'>,\n",
       " <Array [1380, 1410, 1410, ... 1410, 1360, 1370] type='19963 * int64'>,\n",
       " <Array [0.896, 0.605, 0.603, ... 0.742, 0.631] type='19963 * float64'>,\n",
       " <Array [70, 70, 60, 60, 80, ... 60, 80, 70, 60] type='19963 * int64'>,\n",
       " <Array [686, 220, 722, 444, ... 724, 725, 254] type='17868 * float64'>,\n",
       " <Array [120, 95, 116, 115, ... 118, 116, 98] type='17868 * int64'>,\n",
       " <Array [100, 110, 100, 100, ... 100, 100, 90] type='17868 * int64'>,\n",
       " <Array [140, 150, 140, 140, ... 140, 140, 140] type='17868 * int64'>,\n",
       " <Array [190, 190, 190, 190, ... 190, 190, 180] type='17868 * int64'>,\n",
       " <Array [10690, 11560, 5190, ... 13150, 3610] type='17868 * int64'>,\n",
       " <Array [11200, 12000, 5730, ... 13680, 4010] type='17868 * int64'>,\n",
       " <Array [5.96, 1.78, 6.35, ... 6.57, 6.23, 2.28] type='17868 * float64'>,\n",
       " <Array [70, 80, 70, 80, 70, ... 60, 70, 60, 60] type='17868 * int64'>,\n",
       " <Array [37.6, 44.3, 46.1, ... 25.3, 15.6, 6.64] type='17091 * float64'>,\n",
       " <Array [33, 39, 38, 77, 41, ... 63, 23, 15, 7] type='17091 * int64'>,\n",
       " <Array [110, 100, 100, 100, ... 90, 80, 80] type='17091 * int64'>,\n",
       " <Array [160, 140, 140, 140, ... 140, 110, 120] type='17091 * int64'>,\n",
       " <Array [220, 170, 170, 200, ... 210, 150, 180] type='17091 * int64'>,\n",
       " <Array [774210, 60, 60, ... 60, 70, -460650] type='17091 * int64'>,\n",
       " <Array [774550, 360, 350, ... 330, -460420] type='17091 * int64'>,\n",
       " <Array [0.381, 0.391, 0.45, ... 0.165, 0.0761] type='17091 * float64'>,\n",
       " <Array [80, 80, 70, 60, 80, ... 80, 80, 50, 50] type='17091 * int64'>]"
      ]
     },
     "metadata": {},
     "output_type": "display_data"
    }
   ],
   "source": [
    "display(decaydata)"
   ]
  },
  {
   "cell_type": "code",
   "execution_count": 20,
   "id": "f9802317-a2ff-4e13-99ac-13a595949217",
   "metadata": {},
   "outputs": [],
   "source": [
    "def convert_to_2d(data):\n",
    "    \n",
    "    matrix = []\n",
    "    for i in data:\n",
    "        matrix.append(i)\n",
    "    \n",
    "    matrix = np.asarray(matrix, dtype=object)\n",
    "    \n",
    "    return matrix\n",
    "\n",
    "bi212_data = convert_to_2d(decaydata[0:9])\n",
    "po212_data = convert_to_2d(decaydata[9:18])\n",
    "neutron_data = convert_to_2d(decaydata[18:27])\n",
    "na22_data = convert_to_2d(decaydata[27:36])\n",
    "\n",
    "bi212 = pd.DataFrame(data=bi212_data.T, columns=data_types)\n",
    "po212 = pd.DataFrame(data=po212_data.T, columns=data_types )\n",
    "neutron = pd.DataFrame(data=neutron_data.T, columns=data_types )\n",
    "na22 = pd.DataFrame(data=na22_data.T, columns=data_types)\n",
    "\n",
    "bi212['af50pa'] = bi212.apply(lambda row: row.areaFractionTime50_ns/row.pulseArea_phd, axis=1)\n",
    "po212['af50pa'] = po212.apply(lambda row: row.areaFractionTime50_ns/row.pulseArea_phd, axis=1)\n",
    "neutron['af50pa'] = neutron.apply(lambda row: row.areaFractionTime50_ns/row.pulseArea_phd, axis=1)\n",
    "na22['af50pa'] = na22.apply(lambda row: row.areaFractionTime50_ns/row.pulseArea_phd, axis=1)\n",
    "\n",
    "bi212['af75pa'] = bi212.apply(lambda row: row.areaFractionTime75_ns/row.pulseArea_phd, axis=1)\n",
    "po212['af75pa'] = po212.apply(lambda row: row.areaFractionTime75_ns/row.pulseArea_phd, axis=1)\n",
    "neutron['af75pa'] = neutron.apply(lambda row: row.areaFractionTime75_ns/row.pulseArea_phd, axis=1)\n",
    "na22['af75pa'] = na22.apply(lambda row: row.areaFractionTime75_ns/row.pulseArea_phd, axis=1)\n",
    "\n",
    "bi212['af90pa'] = bi212.apply(lambda row: row.areaFractionTime90_ns/row.pulseArea_phd, axis=1)\n",
    "po212['af90pa'] = po212.apply(lambda row: row.areaFractionTime90_ns/row.pulseArea_phd, axis=1)\n",
    "neutron['af90pa'] = neutron.apply(lambda row: row.areaFractionTime90_ns/row.pulseArea_phd, axis=1)\n",
    "na22['af90pa'] = na22.apply(lambda row: row.areaFractionTime90_ns/row.pulseArea_phd, axis=1)\n",
    "\n",
    "bi212['pulselength'] = bi212.apply(lambda row: row.pulseEndTime_ns - row.pulseStartTime_ns, axis=1)\n",
    "po212['pulselength'] = po212.apply(lambda row: row.pulseEndTime_ns - row.pulseStartTime_ns, axis=1)\n",
    "neutron['pulselength'] = neutron.apply(lambda row: row.pulseEndTime_ns - row.pulseStartTime_ns, axis=1)\n",
    "na22['pulselength'] = na22.apply(lambda row: row.pulseEndTime_ns - row.pulseStartTime_ns, axis=1)\n",
    "\n",
    "bi212['Tag'] = 'bi214'\n",
    "po212['Tag'] = 'po214'\n",
    "neutron['Tag'] = 'cf252'\n",
    "na22['Tag'] = 'na22'\n",
    "\n",
    "\n",
    "po212 = po212.drop(po212[po212.pulseArea_phd > 200].index)"
   ]
  },
  {
   "cell_type": "code",
   "execution_count": null,
   "id": "04a833c3-3b58-4674-baa7-ac875e192b78",
   "metadata": {},
   "outputs": [],
   "source": []
  },
  {
   "cell_type": "code",
   "execution_count": 21,
   "id": "e249db41-d3c5-414a-988f-05000ee542e8",
   "metadata": {},
   "outputs": [],
   "source": [
    "bi212.to_csv('bi214_data.csv')\n",
    "po212.to_csv('po214_data.csv')\n",
    "neutron.to_csv('cf252_data.csv')\n",
    "na22.to_csv('na22_data.csv')"
   ]
  },
  {
   "cell_type": "code",
   "execution_count": null,
   "id": "c347a3ab-5c0d-4c87-bcbf-ca548b94d124",
   "metadata": {},
   "outputs": [],
   "source": [
    "def data_decay(file):\n",
    "    \n",
    "    tfile= up.open(file)\n",
    "    events=tfile[\"Events\"]\n",
    "    pulsearea=np.array(events[\"pulsesODHG.pulseArea_phd\"])\n",
    "    pulsearea=pulsearea.flatten()\n",
    "    af75=np.array(events[\"pulsesODHG.areaFractionTime75_ns\"])\n",
    "    af75=af75.flatten()\n",
    "    pulsestart=np.array(events[\"pulsesODHG.pulseStartTime_ns\"])\n",
    "    pulsestart=pulsestart.flatten()\n",
    "    pulseend=np.array(events[\"pulsesODHG.pulseEndTime_ns\"])\n",
    "    pulseend=pulseend.flatten()\n",
    "    truth = tfile['RQMCTruth']\n",
    "    pp = np.array(truth['mcTruthEvent./mcTruthEvent.parentParticle'])\n",
    "    pp=pp.flatten()\n",
    "    \n",
    "    return [pulsearea,af75,pulsestart,pulseend,pp]\n",
    "\n",
    "def data():\n",
    "    columns={'Pulse_Area' : [], 'af75' : [], 'pulsestart' : [], 'pulseend' : [], 'Tag' : []}\n",
    "    files = glob.glob('/hdfs/user/ak18773/od_simulations/BACCARAT_6.2.14_DER_9.1.0_LZAP_5.4.1/od_internals/lzap_output/*')\n",
    "    with mp.Pool(30) as pool:\n",
    "            data = list(tqdm.tqdm(pool.imap(functools.partial(data_decay),files),total=100))\n",
    "    data=pd.DataFrame(np.concatenate(data,axis=1).T.tolist(),columns=columns)\n",
    "    return data\n"
   ]
  },
  {
   "cell_type": "code",
   "execution_count": null,
   "id": "ebcdaf6e-23f0-467d-8517-f48b11e2637d",
   "metadata": {},
   "outputs": [],
   "source": []
  },
  {
   "cell_type": "code",
   "execution_count": null,
   "id": "eb54db15-5893-4175-a61f-c8217e8758e8",
   "metadata": {},
   "outputs": [],
   "source": []
  },
  {
   "cell_type": "code",
   "execution_count": null,
   "id": "050ceffb-e165-4e08-910d-4d1fa0381915",
   "metadata": {},
   "outputs": [],
   "source": []
  },
  {
   "cell_type": "code",
   "execution_count": null,
   "id": "916d5de0-e5ed-4ab9-aca8-7eff528c331d",
   "metadata": {},
   "outputs": [],
   "source": []
  },
  {
   "cell_type": "code",
   "execution_count": 4,
   "id": "6685bd6d-7d16-4457-b92a-ee038069d165",
   "metadata": {},
   "outputs": [
    {
     "name": "stdout",
     "output_type": "stream",
     "text": [
      "helloworld!\n"
     ]
    }
   ],
   "source": [
    "print('helloworld!')"
   ]
  },
  {
   "cell_type": "code",
   "execution_count": null,
   "id": "786539a7-7b94-490a-98fc-906e0e5f382b",
   "metadata": {},
   "outputs": [],
   "source": []
  }
 ],
 "metadata": {
  "kernelspec": {
   "display_name": "python3",
   "language": "python",
   "name": "python3"
  },
  "language_info": {
   "codemirror_mode": {
    "name": "ipython",
    "version": 3
   },
   "file_extension": ".py",
   "mimetype": "text/x-python",
   "name": "python",
   "nbconvert_exporter": "python",
   "pygments_lexer": "ipython3",
   "version": "3.9.7"
  }
 },
 "nbformat": 4,
 "nbformat_minor": 5
}
