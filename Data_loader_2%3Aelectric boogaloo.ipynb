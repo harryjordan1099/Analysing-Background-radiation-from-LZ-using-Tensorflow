{
 "cells": [
  {
   "cell_type": "code",
   "execution_count": 1,
   "id": "267cc414-b412-4a78-923c-f27ba69ad427",
   "metadata": {},
   "outputs": [],
   "source": [
    "import glob\n",
    "import scipy\n",
    "import functools\n",
    "import uproot as up\n",
    "import matplotlib.pyplot as plt\n",
    "import numpy as np\n",
    "import time\n",
    "import pandas as pd\n",
    "import awkward as ak\n",
    "#import Pool\n",
    "import multiprocessing as mp\n",
    "from multiprocessing import Pool, Process, Manager\n",
    "import tqdm\n",
    "from scipy import stats\n",
    "from scipy.stats import gaussian_kde"
   ]
  },
  {
   "cell_type": "code",
   "execution_count": 2,
   "id": "b3018299-9ad2-44b6-82d6-73cdc09a3b66",
   "metadata": {},
   "outputs": [],
   "source": [
    "Uranium_datatypes = ['Bi214','Pb214','Ra226','Pa234[73.920X]','Po218','Bi210','Po210','U238','U234','Th230','Pb210','Th234','Pa234','Pa234Gamma']\n",
    "Thorium_datatypes = ['Ac228','Pb212','Rn220','Bi212','Ra224','Th228','Po216','Th232','Ra228','Tl208']\n",
    "\n",
    "top5 = ['Gd152','Bi214','Ac228','Pb212','Pb214']\n",
    "\n"
   ]
  },
  {
   "cell_type": "code",
   "execution_count": 9,
   "id": "93c00026-143d-42ee-87c4-4c81f5568504",
   "metadata": {},
   "outputs": [
    {
     "data": {
      "text/plain": [
       "['/hdfs/user/ak18773/od_simulations/BACCARAT_6.2.14_DER_9.1.0_LZAP_5.4.1/amli_csd1_z700mm',\n",
       " '/hdfs/user/ak18773/od_simulations/BACCARAT_6.2.14_DER_9.1.0_LZAP_5.4.1/amli_neutrons_only_csd1_z700mm',\n",
       " '/hdfs/user/ak18773/od_simulations/BACCARAT_6.2.14_DER_9.1.0_LZAP_5.4.1/amli_neutrons_only_csd1_z700mm_saved_verbose',\n",
       " '/hdfs/user/ak18773/od_simulations/BACCARAT_6.2.14_DER_9.1.0_LZAP_5.4.1/background_neutrons_18Jun19',\n",
       " '/hdfs/user/ak18773/od_simulations/BACCARAT_6.2.14_DER_9.1.0_LZAP_5.4.1/cf252',\n",
       " '/hdfs/user/ak18773/od_simulations/BACCARAT_6.2.14_DER_9.1.0_LZAP_5.4.1/gd_152_decay',\n",
       " '/hdfs/user/ak18773/od_simulations/BACCARAT_6.2.14_DER_9.1.0_LZAP_5.4.1/gdls_neutrons',\n",
       " '/hdfs/user/ak18773/od_simulations/BACCARAT_6.2.14_DER_9.1.0_LZAP_5.4.1/od_1000kev_alpha',\n",
       " '/hdfs/user/ak18773/od_simulations/BACCARAT_6.2.14_DER_9.1.0_LZAP_5.4.1/od_1000kev_electron',\n",
       " '/hdfs/user/ak18773/od_simulations/BACCARAT_6.2.14_DER_9.1.0_LZAP_5.4.1/od_1000kev_gamma',\n",
       " '/hdfs/user/ak18773/od_simulations/BACCARAT_6.2.14_DER_9.1.0_LZAP_5.4.1/od_100kev_alpha',\n",
       " '/hdfs/user/ak18773/od_simulations/BACCARAT_6.2.14_DER_9.1.0_LZAP_5.4.1/od_100kev_electron',\n",
       " '/hdfs/user/ak18773/od_simulations/BACCARAT_6.2.14_DER_9.1.0_LZAP_5.4.1/od_100kev_gamma',\n",
       " '/hdfs/user/ak18773/od_simulations/BACCARAT_6.2.14_DER_9.1.0_LZAP_5.4.1/od_2000kev_alpha',\n",
       " '/hdfs/user/ak18773/od_simulations/BACCARAT_6.2.14_DER_9.1.0_LZAP_5.4.1/od_2000kev_electron',\n",
       " '/hdfs/user/ak18773/od_simulations/BACCARAT_6.2.14_DER_9.1.0_LZAP_5.4.1/od_2000kev_gamma',\n",
       " '/hdfs/user/ak18773/od_simulations/BACCARAT_6.2.14_DER_9.1.0_LZAP_5.4.1/od_200kev_alpha',\n",
       " '/hdfs/user/ak18773/od_simulations/BACCARAT_6.2.14_DER_9.1.0_LZAP_5.4.1/od_200kev_electron',\n",
       " '/hdfs/user/ak18773/od_simulations/BACCARAT_6.2.14_DER_9.1.0_LZAP_5.4.1/od_200kev_gamma',\n",
       " '/hdfs/user/ak18773/od_simulations/BACCARAT_6.2.14_DER_9.1.0_LZAP_5.4.1/od_500kev_alpha',\n",
       " '/hdfs/user/ak18773/od_simulations/BACCARAT_6.2.14_DER_9.1.0_LZAP_5.4.1/od_500kev_electron',\n",
       " '/hdfs/user/ak18773/od_simulations/BACCARAT_6.2.14_DER_9.1.0_LZAP_5.4.1/od_500kev_gamma',\n",
       " '/hdfs/user/ak18773/od_simulations/BACCARAT_6.2.14_DER_9.1.0_LZAP_5.4.1/od_internals',\n",
       " '/hdfs/user/ak18773/od_simulations/BACCARAT_6.2.14_DER_9.1.0_LZAP_5.4.1/od_rockgamma_k40',\n",
       " '/hdfs/user/ak18773/od_simulations/BACCARAT_6.2.14_DER_9.1.0_LZAP_5.4.1/od_rockgamma_th232',\n",
       " '/hdfs/user/ak18773/od_simulations/BACCARAT_6.2.14_DER_9.1.0_LZAP_5.4.1/od_rockgamma_u238',\n",
       " '/hdfs/user/ak18773/od_simulations/BACCARAT_6.2.14_DER_9.1.0_LZAP_5.4.1/scinttank_rockgamma_all',\n",
       " '/hdfs/user/ak18773/od_simulations/BACCARAT_6.2.14_DER_9.1.0_LZAP_5.4.1/scinttank_rockgamma_k40',\n",
       " '/hdfs/user/ak18773/od_simulations/BACCARAT_6.2.14_DER_9.1.0_LZAP_5.4.1/scinttank_rockgamma_th232',\n",
       " '/hdfs/user/ak18773/od_simulations/BACCARAT_6.2.14_DER_9.1.0_LZAP_5.4.1/scinttank_rockgamma_u238',\n",
       " '/hdfs/user/ak18773/od_simulations/BACCARAT_6.2.14_DER_9.1.0_LZAP_5.4.1/tpc_1mev_neutrons',\n",
       " '/hdfs/user/ak18773/od_simulations/BACCARAT_6.2.14_DER_9.1.0_LZAP_5.4.1/tpc_1mev_neutrons_saved_verbose',\n",
       " '/hdfs/user/ak18773/od_simulations/BACCARAT_6.2.14_DER_9.1.0_LZAP_5.4.1/waveforms']"
      ]
     },
     "execution_count": 10,
     "metadata": {},
     "output_type": "execute_result"
    }
   ],
   "source": [
    "tfile = glob.glob('/hdfs/user/ak18773/od_simulations/BACCARAT_6.2.14_DER_9.1.0_LZAP_5.4.1/od_internals/lzap_output/*')\n",
    "tfile\n",
    "#display(event.keys())"
   ]
  },
  {
   "cell_type": "code",
   "execution_count": 4,
   "id": "df953c0e-430b-474e-a655-3cbb3f3b8844",
   "metadata": {},
   "outputs": [],
   "source": [
    "def data_decay(file):\n",
    "    \n",
    "    tfile= up.open(file)\n",
    "    events=tfile[\"Events\"]\n",
    "    pulsearea=np.array(events[\"pulsesODHG.pulseArea_phd\"])\n",
    "    pulsearea=pulsearea.flatten()\n",
    "    af75=np.array(events[\"pulsesODHG.areaFractionTime75_ns\"])\n",
    "    af75=af75.flatten()\n",
    "    pulsestart=np.array(events[\"pulsesODHG.pulseStartTime_ns\"])\n",
    "    pulsestart=pulsestart.flatten()\n",
    "    pulseend=np.array(events[\"pulsesODHG.pulseEndTime_ns\"])\n",
    "    pulseend=pulseend.flatten()\n",
    "    truth = tfile['RQMCTruth']\n",
    "    pp = np.array(truth['mcTruthEvent./mcTruthEvent.parentParticle'])\n",
    "    pp=pp.flatten()\n",
    "    \n",
    "    return [pulsearea,af75,pulsestart,pulseend,pp]\n",
    "\n",
    "def data():\n",
    "    columns={'Pulse_Area' : [], 'af75' : [], 'pulsestart' : [], 'pulseend' : [], 'Tag' : []}\n",
    "    files = glob.glob('/hdfs/user/ak18773/od_simulations/BACCARAT_6.2.14_DER_9.1.0_LZAP_5.4.1/od_internals/lzap_output/*')\n",
    "    with mp.Pool(30) as pool:\n",
    "            data = list(tqdm.tqdm(pool.imap(functools.partial(data_decay),files),total=100))\n",
    "    data=pd.DataFrame(np.concatenate(data,axis=1).T.tolist(),columns=columns)\n",
    "    return data\n"
   ]
  },
  {
   "cell_type": "code",
   "execution_count": 5,
   "id": "0b3ea1d5-cd96-4328-a41a-2ca6039404cd",
   "metadata": {},
   "outputs": [],
   "source": [
    "def cut_1D(df,total,min,max,datatype):\n",
    "    \n",
    "    cut = df[df['{}'.format(datatype)].between(min, max)]\n",
    "    totalcut = total[total['{}'.format(datatype)].between(min, max)]\n",
    "    \n",
    "    signal = len(cut)\n",
    "    background = len(totalcut)\n",
    "    \n",
    "    confidence = signal/background\n",
    "    countscovered = signal/len(df.Pulse_Area)\n",
    "    \n",
    "    perf = confidence + countscovered\n",
    "    \n",
    "    print('purity: '+ str(confidence))\n",
    "    print('efficiency: '+ str(countscovered))\n",
    "    print('sum of both: '+ str(perf))\n",
    "\n",
    "def PDE(signal,background):\n",
    "    L = L = signal[0]/(signal[0] + background[0])\n",
    "    centre = [ (y+x)/2 for x, y in zip(signal[1],signal[1][1:]) ]  \n",
    "    \n",
    "    return L, centre\n"
   ]
  },
  {
   "cell_type": "code",
   "execution_count": 6,
   "id": "6897d98c-e1e1-4a8b-8cec-6c0e1f0bf3bf",
   "metadata": {},
   "outputs": [
    {
     "name": "stderr",
     "output_type": "stream",
     "text": [
      "3000it [01:11, 42.20it/s]                                                                                       \n"
     ]
    }
   ],
   "source": [
    "data = data()"
   ]
  },
  {
   "cell_type": "code",
   "execution_count": 7,
   "id": "91713dc6-c3fa-4b24-901c-1b88c6c4258a",
   "metadata": {},
   "outputs": [
    {
     "data": {
      "text/html": [
       "<div>\n",
       "<style scoped>\n",
       "    .dataframe tbody tr th:only-of-type {\n",
       "        vertical-align: middle;\n",
       "    }\n",
       "\n",
       "    .dataframe tbody tr th {\n",
       "        vertical-align: top;\n",
       "    }\n",
       "\n",
       "    .dataframe thead th {\n",
       "        text-align: right;\n",
       "    }\n",
       "</style>\n",
       "<table border=\"1\" class=\"dataframe\">\n",
       "  <thead>\n",
       "    <tr style=\"text-align: right;\">\n",
       "      <th></th>\n",
       "      <th>Pulse_Area</th>\n",
       "      <th>af75</th>\n",
       "      <th>pulsestart</th>\n",
       "      <th>pulseend</th>\n",
       "      <th>Tag</th>\n",
       "      <th>pulselength</th>\n",
       "    </tr>\n",
       "  </thead>\n",
       "  <tbody>\n",
       "    <tr>\n",
       "      <th>0</th>\n",
       "      <td>[3.6044168]</td>\n",
       "      <td>[130]</td>\n",
       "      <td>[70]</td>\n",
       "      <td>[330]</td>\n",
       "      <td>Gd152</td>\n",
       "      <td>[260]</td>\n",
       "    </tr>\n",
       "    <tr>\n",
       "      <th>1</th>\n",
       "      <td>[22.544008]</td>\n",
       "      <td>[150]</td>\n",
       "      <td>[60]</td>\n",
       "      <td>[470]</td>\n",
       "      <td>Ra224</td>\n",
       "      <td>[410]</td>\n",
       "    </tr>\n",
       "    <tr>\n",
       "      <th>2</th>\n",
       "      <td>[15.754724]</td>\n",
       "      <td>[180]</td>\n",
       "      <td>[40]</td>\n",
       "      <td>[410]</td>\n",
       "      <td>Rn222</td>\n",
       "      <td>[370]</td>\n",
       "    </tr>\n",
       "    <tr>\n",
       "      <th>3</th>\n",
       "      <td>[16.342558]</td>\n",
       "      <td>[170]</td>\n",
       "      <td>[30]</td>\n",
       "      <td>[380]</td>\n",
       "      <td>Th228</td>\n",
       "      <td>[350]</td>\n",
       "    </tr>\n",
       "    <tr>\n",
       "      <th>4</th>\n",
       "      <td>[]</td>\n",
       "      <td>[]</td>\n",
       "      <td>[]</td>\n",
       "      <td>[]</td>\n",
       "      <td>Pb214</td>\n",
       "      <td>[]</td>\n",
       "    </tr>\n",
       "  </tbody>\n",
       "</table>\n",
       "</div>"
      ],
      "text/plain": [
       "    Pulse_Area   af75 pulsestart pulseend    Tag pulselength\n",
       "0  [3.6044168]  [130]       [70]    [330]  Gd152       [260]\n",
       "1  [22.544008]  [150]       [60]    [470]  Ra224       [410]\n",
       "2  [15.754724]  [180]       [40]    [410]  Rn222       [370]\n",
       "3  [16.342558]  [170]       [30]    [380]  Th228       [350]\n",
       "4           []     []         []       []  Pb214          []"
      ]
     },
     "metadata": {},
     "output_type": "display_data"
    }
   ],
   "source": [
    "\n",
    "\n",
    "data['pulselength'] = data['pulseend'] - data['pulsestart']\n",
    "\n",
    "display(data.head())"
   ]
  },
  {
   "cell_type": "code",
   "execution_count": 353,
   "id": "6486c10d-9655-4cb4-9736-102685611bc2",
   "metadata": {},
   "outputs": [
    {
     "data": {
      "text/html": [
       "<div>\n",
       "<style scoped>\n",
       "    .dataframe tbody tr th:only-of-type {\n",
       "        vertical-align: middle;\n",
       "    }\n",
       "\n",
       "    .dataframe tbody tr th {\n",
       "        vertical-align: top;\n",
       "    }\n",
       "\n",
       "    .dataframe thead th {\n",
       "        text-align: right;\n",
       "    }\n",
       "</style>\n",
       "<table border=\"1\" class=\"dataframe\">\n",
       "  <thead>\n",
       "    <tr style=\"text-align: right;\">\n",
       "      <th></th>\n",
       "      <th>Tag</th>\n",
       "      <th>Pulse_Area</th>\n",
       "      <th>af75</th>\n",
       "      <th>pulsestart</th>\n",
       "      <th>pulseend</th>\n",
       "      <th>pulselength</th>\n",
       "    </tr>\n",
       "  </thead>\n",
       "  <tbody>\n",
       "    <tr>\n",
       "      <th>0</th>\n",
       "      <td>Gd152</td>\n",
       "      <td>3.604417</td>\n",
       "      <td>130</td>\n",
       "      <td>70</td>\n",
       "      <td>330</td>\n",
       "      <td>260</td>\n",
       "    </tr>\n",
       "    <tr>\n",
       "      <th>1</th>\n",
       "      <td>Ra224</td>\n",
       "      <td>22.544008</td>\n",
       "      <td>150</td>\n",
       "      <td>60</td>\n",
       "      <td>470</td>\n",
       "      <td>410</td>\n",
       "    </tr>\n",
       "    <tr>\n",
       "      <th>2</th>\n",
       "      <td>Rn222</td>\n",
       "      <td>15.754724</td>\n",
       "      <td>180</td>\n",
       "      <td>40</td>\n",
       "      <td>410</td>\n",
       "      <td>370</td>\n",
       "    </tr>\n",
       "    <tr>\n",
       "      <th>3</th>\n",
       "      <td>Th228</td>\n",
       "      <td>16.342558</td>\n",
       "      <td>170</td>\n",
       "      <td>30</td>\n",
       "      <td>380</td>\n",
       "      <td>350</td>\n",
       "    </tr>\n",
       "    <tr>\n",
       "      <th>4</th>\n",
       "      <td>Pb210</td>\n",
       "      <td>1.681656</td>\n",
       "      <td>80</td>\n",
       "      <td>70</td>\n",
       "      <td>270</td>\n",
       "      <td>200</td>\n",
       "    </tr>\n",
       "  </tbody>\n",
       "</table>\n",
       "</div>"
      ],
      "text/plain": [
       "     Tag Pulse_Area af75 pulsestart pulseend pulselength\n",
       "0  Gd152   3.604417  130         70      330         260\n",
       "1  Ra224  22.544008  150         60      470         410\n",
       "2  Rn222  15.754724  180         40      410         370\n",
       "3  Th228  16.342558  170         30      380         350\n",
       "4  Pb210   1.681656   80         70      270         200"
      ]
     },
     "metadata": {},
     "output_type": "display_data"
    }
   ],
   "source": [
    "data = data.set_index(['Tag']).apply(pd.Series.explode).reset_index()\n",
    "data = data.dropna()\n",
    "display(data.head())\n",
    "\n"
   ]
  },
  {
   "cell_type": "code",
   "execution_count": 354,
   "id": "ab85f324-dcb6-452c-af31-76dbbdee8597",
   "metadata": {},
   "outputs": [],
   "source": [
    "Gd152=data[data['Tag']=='Gd152']\n",
    "Bi214=data[data['Tag']=='Bi214']\n",
    "Ac228=data[data['Tag']=='Ac228']\n",
    "Pb212=data[data['Tag']=='Pb212']\n",
    "Pb214=data[data['Tag']=='Pb214']\n"
   ]
  },
  {
   "cell_type": "code",
   "execution_count": 355,
   "id": "e5075e35-69b9-472d-8f26-a8fcab27882f",
   "metadata": {},
   "outputs": [
    {
     "data": {
      "text/html": [
       "<div>\n",
       "<style scoped>\n",
       "    .dataframe tbody tr th:only-of-type {\n",
       "        vertical-align: middle;\n",
       "    }\n",
       "\n",
       "    .dataframe tbody tr th {\n",
       "        vertical-align: top;\n",
       "    }\n",
       "\n",
       "    .dataframe thead th {\n",
       "        text-align: right;\n",
       "    }\n",
       "</style>\n",
       "<table border=\"1\" class=\"dataframe\">\n",
       "  <thead>\n",
       "    <tr style=\"text-align: right;\">\n",
       "      <th></th>\n",
       "      <th>Tag</th>\n",
       "      <th>Pulse_Area</th>\n",
       "      <th>af75</th>\n",
       "      <th>pulsestart</th>\n",
       "      <th>pulseend</th>\n",
       "      <th>pulselength</th>\n",
       "    </tr>\n",
       "  </thead>\n",
       "  <tbody>\n",
       "    <tr>\n",
       "      <th>0</th>\n",
       "      <td>Gd152</td>\n",
       "      <td>3.604417</td>\n",
       "      <td>130</td>\n",
       "      <td>70</td>\n",
       "      <td>330</td>\n",
       "      <td>260</td>\n",
       "    </tr>\n",
       "    <tr>\n",
       "      <th>6</th>\n",
       "      <td>Gd152</td>\n",
       "      <td>2.863029</td>\n",
       "      <td>140</td>\n",
       "      <td>70</td>\n",
       "      <td>340</td>\n",
       "      <td>270</td>\n",
       "    </tr>\n",
       "    <tr>\n",
       "      <th>8</th>\n",
       "      <td>Gd152</td>\n",
       "      <td>0.462739</td>\n",
       "      <td>70</td>\n",
       "      <td>100</td>\n",
       "      <td>190</td>\n",
       "      <td>90</td>\n",
       "    </tr>\n",
       "    <tr>\n",
       "      <th>9</th>\n",
       "      <td>Gd152</td>\n",
       "      <td>2.136728</td>\n",
       "      <td>210</td>\n",
       "      <td>80</td>\n",
       "      <td>400</td>\n",
       "      <td>320</td>\n",
       "    </tr>\n",
       "    <tr>\n",
       "      <th>13</th>\n",
       "      <td>Gd152</td>\n",
       "      <td>2.425145</td>\n",
       "      <td>140</td>\n",
       "      <td>100</td>\n",
       "      <td>370</td>\n",
       "      <td>270</td>\n",
       "    </tr>\n",
       "  </tbody>\n",
       "</table>\n",
       "</div>"
      ],
      "text/plain": [
       "      Tag Pulse_Area af75 pulsestart pulseend pulselength\n",
       "0   Gd152   3.604417  130         70      330         260\n",
       "6   Gd152   2.863029  140         70      340         270\n",
       "8   Gd152   0.462739   70        100      190          90\n",
       "9   Gd152   2.136728  210         80      400         320\n",
       "13  Gd152   2.425145  140        100      370         270"
      ]
     },
     "metadata": {},
     "output_type": "display_data"
    }
   ],
   "source": [
    "display(Gd152.head())"
   ]
  },
  {
   "cell_type": "code",
   "execution_count": 356,
   "id": "546b13a0-ad5d-4388-ad94-5cd910beac66",
   "metadata": {},
   "outputs": [],
   "source": [
    "Uranium_datatypes = ['Bi214','Pb214','Ra226','Pa234[73.920X]','Po218','Bi210','Po210','U238','U234','Th230','Pb210','Th234','Pa234','Pa234Gamma']\n",
    "Thorium_datatypes = ['Ac228','Pb212','Rn220','Bi212','Ra224','Th228','Po216','Th232','Ra228','Tl208']\n",
    "\n",
    "Uranium = data[data['Tag'].isin(Uranium_datatypes)]\n",
    "Thorium = data[data['Tag'].isin(Thorium_datatypes)]\n",
    "\n",
    "\n",
    "Uranium = Uranium.drop(Uranium[Uranium.Pulse_Area < 5].index)\n",
    "Thorium = Thorium.drop(Thorium[Thorium.Pulse_Area < 5].index)"
   ]
  },
  {
   "cell_type": "code",
   "execution_count": 357,
   "id": "a7b1f3d9-9426-47ce-9918-2586c63052bc",
   "metadata": {},
   "outputs": [
    {
     "data": {
      "text/html": [
       "<div>\n",
       "<style scoped>\n",
       "    .dataframe tbody tr th:only-of-type {\n",
       "        vertical-align: middle;\n",
       "    }\n",
       "\n",
       "    .dataframe tbody tr th {\n",
       "        vertical-align: top;\n",
       "    }\n",
       "\n",
       "    .dataframe thead th {\n",
       "        text-align: right;\n",
       "    }\n",
       "</style>\n",
       "<table border=\"1\" class=\"dataframe\">\n",
       "  <thead>\n",
       "    <tr style=\"text-align: right;\">\n",
       "      <th></th>\n",
       "      <th>Tag</th>\n",
       "      <th>Pulse_Area</th>\n",
       "      <th>af75</th>\n",
       "      <th>pulsestart</th>\n",
       "      <th>pulseend</th>\n",
       "      <th>pulselength</th>\n",
       "    </tr>\n",
       "  </thead>\n",
       "  <tbody>\n",
       "    <tr>\n",
       "      <th>5</th>\n",
       "      <td>Po218</td>\n",
       "      <td>32.394447</td>\n",
       "      <td>140</td>\n",
       "      <td>70</td>\n",
       "      <td>390</td>\n",
       "      <td>320</td>\n",
       "    </tr>\n",
       "    <tr>\n",
       "      <th>7</th>\n",
       "      <td>Po218</td>\n",
       "      <td>19.172611</td>\n",
       "      <td>160</td>\n",
       "      <td>70</td>\n",
       "      <td>430</td>\n",
       "      <td>360</td>\n",
       "    </tr>\n",
       "    <tr>\n",
       "      <th>11</th>\n",
       "      <td>U238</td>\n",
       "      <td>10.620587</td>\n",
       "      <td>140</td>\n",
       "      <td>70</td>\n",
       "      <td>370</td>\n",
       "      <td>300</td>\n",
       "    </tr>\n",
       "    <tr>\n",
       "      <th>12</th>\n",
       "      <td>Bi214</td>\n",
       "      <td>36.003147</td>\n",
       "      <td>150</td>\n",
       "      <td>70</td>\n",
       "      <td>390</td>\n",
       "      <td>320</td>\n",
       "    </tr>\n",
       "    <tr>\n",
       "      <th>17</th>\n",
       "      <td>Th230</td>\n",
       "      <td>21.329746</td>\n",
       "      <td>180</td>\n",
       "      <td>30</td>\n",
       "      <td>390</td>\n",
       "      <td>360</td>\n",
       "    </tr>\n",
       "  </tbody>\n",
       "</table>\n",
       "</div>"
      ],
      "text/plain": [
       "      Tag Pulse_Area af75 pulsestart pulseend pulselength\n",
       "5   Po218  32.394447  140         70      390         320\n",
       "7   Po218  19.172611  160         70      430         360\n",
       "11   U238  10.620587  140         70      370         300\n",
       "12  Bi214  36.003147  150         70      390         320\n",
       "17  Th230  21.329746  180         30      390         360"
      ]
     },
     "metadata": {},
     "output_type": "display_data"
    }
   ],
   "source": [
    "display(Uranium.head())"
   ]
  },
  {
   "cell_type": "code",
   "execution_count": 358,
   "id": "b7a22330-e28f-469e-a696-6d98a0c72034",
   "metadata": {},
   "outputs": [],
   "source": [
    "alpha_decaytypes = ['U238','U234','Th230','Ra226','Rn222','Po218','Bi214','Po214','Pb210','Bi210','Po210','Th232','Th228','Ra224','Rn220','Po216','Pb212','Bi212','Po212']\n",
    "beta_decaytypes = ['Th234','Pa234','Pb214','Bi214','Ti210','Pb210','Bi210','Ti206','Ra228','Ac228','Pb212','Bi212','Ti208']\n",
    "\n",
    "\n",
    "Alpha = data[data['Tag'].isin(alpha_decaytypes)]\n",
    "Beta = data[data['Tag'].isin(beta_decaytypes)]\n",
    "\n",
    "Alpha = Alpha.drop(Alpha[Alpha.Pulse_Area < 5].index)\n",
    "Beta = Beta.drop(Beta[Beta.Pulse_Area < 5].index)\n",
    "\n"
   ]
  },
  {
   "cell_type": "code",
   "execution_count": 359,
   "id": "98292441-d90a-4a68-bfda-5679e2d4c351",
   "metadata": {},
   "outputs": [
    {
     "data": {
      "text/html": [
       "<div>\n",
       "<style scoped>\n",
       "    .dataframe tbody tr th:only-of-type {\n",
       "        vertical-align: middle;\n",
       "    }\n",
       "\n",
       "    .dataframe tbody tr th {\n",
       "        vertical-align: top;\n",
       "    }\n",
       "\n",
       "    .dataframe thead th {\n",
       "        text-align: right;\n",
       "    }\n",
       "</style>\n",
       "<table border=\"1\" class=\"dataframe\">\n",
       "  <thead>\n",
       "    <tr style=\"text-align: right;\">\n",
       "      <th></th>\n",
       "      <th>Tag</th>\n",
       "      <th>Pulse_Area</th>\n",
       "      <th>af75</th>\n",
       "      <th>pulsestart</th>\n",
       "      <th>pulseend</th>\n",
       "      <th>pulselength</th>\n",
       "    </tr>\n",
       "  </thead>\n",
       "  <tbody>\n",
       "    <tr>\n",
       "      <th>1</th>\n",
       "      <td>Ra224</td>\n",
       "      <td>22.544008</td>\n",
       "      <td>150</td>\n",
       "      <td>60</td>\n",
       "      <td>470</td>\n",
       "      <td>410</td>\n",
       "    </tr>\n",
       "    <tr>\n",
       "      <th>2</th>\n",
       "      <td>Rn222</td>\n",
       "      <td>15.754724</td>\n",
       "      <td>180</td>\n",
       "      <td>40</td>\n",
       "      <td>410</td>\n",
       "      <td>370</td>\n",
       "    </tr>\n",
       "    <tr>\n",
       "      <th>3</th>\n",
       "      <td>Th228</td>\n",
       "      <td>16.342558</td>\n",
       "      <td>170</td>\n",
       "      <td>30</td>\n",
       "      <td>380</td>\n",
       "      <td>350</td>\n",
       "    </tr>\n",
       "    <tr>\n",
       "      <th>5</th>\n",
       "      <td>Po218</td>\n",
       "      <td>32.394447</td>\n",
       "      <td>140</td>\n",
       "      <td>70</td>\n",
       "      <td>390</td>\n",
       "      <td>320</td>\n",
       "    </tr>\n",
       "    <tr>\n",
       "      <th>7</th>\n",
       "      <td>Po218</td>\n",
       "      <td>19.172611</td>\n",
       "      <td>160</td>\n",
       "      <td>70</td>\n",
       "      <td>430</td>\n",
       "      <td>360</td>\n",
       "    </tr>\n",
       "  </tbody>\n",
       "</table>\n",
       "</div>"
      ],
      "text/plain": [
       "     Tag Pulse_Area af75 pulsestart pulseend pulselength\n",
       "1  Ra224  22.544008  150         60      470         410\n",
       "2  Rn222  15.754724  180         40      410         370\n",
       "3  Th228  16.342558  170         30      380         350\n",
       "5  Po218  32.394447  140         70      390         320\n",
       "7  Po218  19.172611  160         70      430         360"
      ]
     },
     "metadata": {},
     "output_type": "display_data"
    }
   ],
   "source": [
    "display(Alpha.head())"
   ]
  },
  {
   "cell_type": "code",
   "execution_count": null,
   "id": "42419901-b581-4bd3-8c38-80f3d749622d",
   "metadata": {},
   "outputs": [],
   "source": []
  },
  {
   "cell_type": "code",
   "execution_count": 370,
   "id": "389709ed-314e-48ac-a6a6-f1d600a284bd",
   "metadata": {},
   "outputs": [
    {
     "data": {
      "image/png": "[encoded data removed]",
      "text/plain": [
       "<Figure size 864x720 with 1 Axes>"
      ]
     },
     "metadata": {
      "needs_background": "light"
     },
     "output_type": "display_data"
    }
   ],
   "source": [
    "\n",
    "bins = np.linspace(0,20,100)\n",
    "\n",
    "\n",
    "fig, ax = plt.subplots(figsize=(12,10))\n",
    "\n",
    "ax.hist(Gd152.Pulse_Area, bins, label='Gd152', color='c', histtype = 'step')\n",
    "ax.hist(Bi214.Pulse_Area, bins, label='Bi214', color='m', histtype = 'step')\n",
    "ax.hist(Ac228.Pulse_Area, bins, label='Ac228', color='r', histtype = 'step')\n",
    "ax.hist(Pb212.Pulse_Area, bins, label='Pb212', color='b', histtype = 'step')\n",
    "ax.hist(Pb214.Pulse_Area, bins, label='Pb214',color='y', histtype = 'step')\n",
    "\n",
    "ax.set_xlabel('Pulse Area')\n",
    "ax.set_ylabel('Counts')\n",
    "plt.legend()\n",
    "plt.show()"
   ]
  },
  {
   "cell_type": "code",
   "execution_count": null,
   "id": "4de01727-639d-433c-acbc-dd93f1a76dd4",
   "metadata": {},
   "outputs": [],
   "source": []
  },
  {
   "cell_type": "code",
   "execution_count": 361,
   "id": "904614f4-aaa6-4c42-87fb-351b88ac1e28",
   "metadata": {},
   "outputs": [
    {
     "data": {
      "image/png": "[encoded data removed]",
      "text/plain": [
       "<Figure size 864x720 with 1 Axes>"
      ]
     },
     "metadata": {
      "needs_background": "light"
     },
     "output_type": "display_data"
    }
   ],
   "source": [
    "\n",
    "bins = np.linspace(0,200,100)\n",
    "\n",
    "\n",
    "fig, ax = plt.subplots(figsize=(12,10))\n",
    "\n",
    "ax.hist(Uranium.Pulse_Area, bins, label='U238 decay chain', color='g', histtype = 'step')\n",
    "ax.hist(Thorium.Pulse_Area, bins, label='Th232 decay chain', color='b', histtype = 'step')\n",
    "\n",
    "ax.set_xlabel('Pulse Area')\n",
    "ax.set_ylabel('Counts')\n",
    "\n",
    "plt.legend()\n",
    "plt.show()"
   ]
  },
  {
   "cell_type": "code",
   "execution_count": 395,
   "id": "1dcec1a7-c0b8-4371-b888-cc859ba97367",
   "metadata": {},
   "outputs": [
    {
     "data": {
      "image/png": "[encoded data removed]",
      "text/plain": [
       "<Figure size 864x720 with 1 Axes>"
      ]
     },
     "metadata": {
      "needs_background": "light"
     },
     "output_type": "display_data"
    }
   ],
   "source": [
    "bins = np.linspace(0,150,1000)\n",
    "\n",
    "\n",
    "fig, ax = plt.subplots(figsize=(12,10))\n",
    "\n",
    "signal = ax.hist(Alpha.Pulse_Area, bins, label='Alpha decay', color='r', histtype = 'step',density = True)\n",
    "background = ax.hist(Beta.Pulse_Area, bins, label='Beta decay', color='b', histtype = 'step',density = True)\n",
    "\n",
    "ax.set_xlabel('Pulse Area')\n",
    "ax.set_ylabel('Counts')\n",
    "\n",
    "plt.legend()\n",
    "plt.show()\n"
   ]
  },
  {
   "cell_type": "code",
   "execution_count": 396,
   "id": "ade86a19-2677-4ee9-a3a1-5ec009970fe9",
   "metadata": {},
   "outputs": [
    {
     "name": "stdout",
     "output_type": "stream",
     "text": [
      "purity: 0.725354532173952\n",
      "efficiency: 0.9997843981242637\n",
      "sum of both: 1.7251389302982156\n"
     ]
    }
   ],
   "source": [
    "total = pd.concat([Alpha,Beta])\n",
    "cut_1D(Alpha,total,0,150,'Pulse_Area')"
   ]
  },
  {
   "cell_type": "code",
   "execution_count": 399,
   "id": "6a15f4c5-7846-45e2-b5ea-ca409fac6184",
   "metadata": {},
   "outputs": [
    {
     "name": "stderr",
     "output_type": "stream",
     "text": [
      "/tmp/ipykernel_99634/2567913488.py:19: RuntimeWarning: invalid value encountered in true_divide\n",
      "  L = L = signal[0]/(signal[0] + background[0])\n"
     ]
    },
    {
     "data": {
      "image/png": "[encoded data removed]",
      "text/plain": [
       "<Figure size 864x720 with 1 Axes>"
      ]
     },
     "metadata": {
      "needs_background": "light"
     },
     "output_type": "display_data"
    }
   ],
   "source": [
    "L, centre = PDE(background,signal)\n",
    "\n",
    "fig, ax = plt.subplots(figsize=(12,10))\n",
    "\n",
    "ax.plot(centre, L, color = 'b', label='Beta decay')\n",
    "\n",
    "ax.set_xlabel('Pulse Area')\n",
    "ax.set_ylabel('Likelyhood')\n",
    "plt.legend()\n",
    "plt.show()"
   ]
  },
  {
   "cell_type": "code",
   "execution_count": 290,
   "id": "e7396ec1-0499-4af3-96c8-49b15e39891e",
   "metadata": {},
   "outputs": [
    {
     "data": {
      "text/html": [
       "<div>\n",
       "<style scoped>\n",
       "    .dataframe tbody tr th:only-of-type {\n",
       "        vertical-align: middle;\n",
       "    }\n",
       "\n",
       "    .dataframe tbody tr th {\n",
       "        vertical-align: top;\n",
       "    }\n",
       "\n",
       "    .dataframe thead th {\n",
       "        text-align: right;\n",
       "    }\n",
       "</style>\n",
       "<table border=\"1\" class=\"dataframe\">\n",
       "  <thead>\n",
       "    <tr style=\"text-align: right;\">\n",
       "      <th></th>\n",
       "      <th>Tag</th>\n",
       "      <th>Pulse_Area</th>\n",
       "      <th>af75</th>\n",
       "      <th>pulsestart</th>\n",
       "      <th>pulseend</th>\n",
       "    </tr>\n",
       "  </thead>\n",
       "  <tbody>\n",
       "    <tr>\n",
       "      <th>6</th>\n",
       "      <td>Po218</td>\n",
       "      <td>32.394447</td>\n",
       "      <td>140</td>\n",
       "      <td>70</td>\n",
       "      <td>390</td>\n",
       "    </tr>\n",
       "    <tr>\n",
       "      <th>8</th>\n",
       "      <td>Po218</td>\n",
       "      <td>19.172611</td>\n",
       "      <td>160</td>\n",
       "      <td>70</td>\n",
       "      <td>430</td>\n",
       "    </tr>\n",
       "    <tr>\n",
       "      <th>30</th>\n",
       "      <td>Po218</td>\n",
       "      <td>24.12594</td>\n",
       "      <td>140</td>\n",
       "      <td>60</td>\n",
       "      <td>370</td>\n",
       "    </tr>\n",
       "    <tr>\n",
       "      <th>32</th>\n",
       "      <td>Po210</td>\n",
       "      <td>23.664164</td>\n",
       "      <td>130</td>\n",
       "      <td>70</td>\n",
       "      <td>360</td>\n",
       "    </tr>\n",
       "    <tr>\n",
       "      <th>39</th>\n",
       "      <td>Po218</td>\n",
       "      <td>28.037792</td>\n",
       "      <td>170</td>\n",
       "      <td>40</td>\n",
       "      <td>360</td>\n",
       "    </tr>\n",
       "  </tbody>\n",
       "</table>\n",
       "</div>"
      ],
      "text/plain": [
       "      Tag Pulse_Area af75 pulsestart pulseend\n",
       "6   Po218  32.394447  140         70      390\n",
       "8   Po218  19.172611  160         70      430\n",
       "30  Po218   24.12594  140         60      370\n",
       "32  Po210  23.664164  130         70      360\n",
       "39  Po218  28.037792  170         40      360"
      ]
     },
     "metadata": {},
     "output_type": "display_data"
    }
   ],
   "source": [
    "poladium_datatypes = ['Po210','Po218','Po216','Po215']\n",
    "bismuth_datatypes = ['Bi214','Bi210']\n",
    "\n",
    "poladium = data[data['Tag'].isin(poladium_datatypes)]\n",
    "bismuth = data[data['Tag'].isin(bismuth_datatypes)]\n",
    "\n"
   ]
  },
  {
   "cell_type": "code",
   "execution_count": 377,
   "id": "9d58ff0d-5c1e-41f1-a6b9-df0fc22b0d01",
   "metadata": {},
   "outputs": [
    {
     "data": {
      "image/png": "[encoded data removed]",
      "text/plain": [
       "<Figure size 864x720 with 1 Axes>"
      ]
     },
     "metadata": {
      "needs_background": "light"
     },
     "output_type": "display_data"
    }
   ],
   "source": [
    "bins = np.linspace(0,150,1000)\n",
    "\n",
    "\n",
    "fig, ax = plt.subplots(figsize=(12,10))\n",
    "\n",
    "signal = ax.hist(poladium.Pulse_Area, bins, label='Polonium', color='r', histtype = 'step',density = True)\n",
    "background = ax.hist(bismuth.Pulse_Area, bins, label='Bismuth', color='b', histtype = 'step',density = True)\n",
    "\n",
    "ax.set_xlabel('Pulse Area')\n",
    "ax.set_ylabel('Probability')\n",
    "\n",
    "plt.legend()\n",
    "plt.show()"
   ]
  },
  {
   "cell_type": "code",
   "execution_count": 333,
   "id": "8a1444de-4e7c-4c5b-a6be-86305acd59c9",
   "metadata": {},
   "outputs": [
    {
     "name": "stdout",
     "output_type": "stream",
     "text": [
      "purity: 0.9234554973821989\n",
      "efficiency: 0.2575266462257264\n",
      "sum of both: 1.1809821436079253\n",
      "purity: 0.9380561026964613\n",
      "efficiency: 0.4032997517885823\n",
      "sum of both: 1.3413558544850437\n",
      "===============\n",
      "purity: 0.8080304510391754\n",
      "efficiency: 0.9668876841532478\n",
      "sum of both: 1.774918135192423\n"
     ]
    }
   ],
   "source": [
    "total = pd.concat([poladium,bismuth])\n",
    "cut_1D(bismuth,total,0,13,'Pulse_Area')\n",
    "cut_1D(bismuth,total,40,140,'Pulse_Area')\n",
    "print('===============')\n",
    "cut_1D(poladium,total,13,40,'Pulse_Area')\n"
   ]
  },
  {
   "cell_type": "code",
   "execution_count": 385,
   "id": "8405e32a-634f-4385-b77e-c17c376ae556",
   "metadata": {},
   "outputs": [
    {
     "name": "stderr",
     "output_type": "stream",
     "text": [
      "/tmp/ipykernel_99634/2567913488.py:19: RuntimeWarning: invalid value encountered in true_divide\n",
      "  L = L = signal[0]/(signal[0] + background[0])\n"
     ]
    },
    {
     "data": {
      "image/png": "[encoded data removed]",
      "text/plain": [
       "<Figure size 864x720 with 1 Axes>"
      ]
     },
     "metadata": {
      "needs_background": "light"
     },
     "output_type": "display_data"
    }
   ],
   "source": [
    "L, centre = PDE(background,signal)\n",
    "\n",
    "fig, ax = plt.subplots(figsize=(12,10))\n",
    "\n",
    "ax.plot(centre, L, color = 'b', label='Bismuth')\n",
    "\n",
    "ax.set_xlabel('Pulse Area')\n",
    "ax.set_ylabel('Likelyhood')\n",
    "plt.legend()\n",
    "plt.show()"
   ]
  },
  {
   "cell_type": "code",
   "execution_count": null,
   "id": "9729ef49-3d7a-4379-ad29-75dc4b46b0a8",
   "metadata": {},
   "outputs": [],
   "source": []
  },
  {
   "cell_type": "code",
   "execution_count": null,
   "id": "ca22b533-f7f4-45c9-ab2f-4f37fa1067eb",
   "metadata": {},
   "outputs": [],
   "source": []
  },
  {
   "cell_type": "code",
   "execution_count": null,
   "id": "e7d8abe9-0aee-4cc3-93e5-7e9deeb9d8a1",
   "metadata": {},
   "outputs": [],
   "source": []
  }
 ],
 "metadata": {
  "kernelspec": {
   "display_name": "python3",
   "language": "python",
   "name": "python3"
  },
  "language_info": {
   "codemirror_mode": {
    "name": "ipython",
    "version": 3
   },
   "file_extension": ".py",
   "mimetype": "text/x-python",
   "name": "python",
   "nbconvert_exporter": "python",
   "pygments_lexer": "ipython3",
   "version": "3.9.7"
  }
 },
 "nbformat": 4,
 "nbformat_minor": 5
}
